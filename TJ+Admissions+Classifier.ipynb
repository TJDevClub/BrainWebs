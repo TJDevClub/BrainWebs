{
 "cells": [
  {
   "cell_type": "markdown",
   "metadata": {},
   "source": [
    "# Will I Get Into TJ?\n",
    "\n",
    "My mom, being the Asian mom that she is, somehow found TJ admissions data on the [FCAG website](http://fcag.org).\n",
    "\n",
    "Me, being the nerd that I am, perked up when she mentioned the words \"data set\".\n",
    "\n",
    "So I wrote a classifier that, given some information, can determine (with 87% accuracy) whether a semifinalist will make it into TJ.\n",
    "\n",
    "Now, there are some very important caveats here, of course.\n",
    "\n",
    "1. I'm using the data from the Classes of 2017 and 2018. There is also admissions data for a couple of other years that I just didn't bother using. I'm sure that the admissions policies change to some degree every year, so just keep that in mind.\n",
    "2. I actually have no way of verifying the validity of the data, but I'll trust FCAG because it's a relatively reputable institution.\n",
    "2. This assumes that the student has reached the semifinalist stage, since it asks for admissions test scores.\n",
    "4. This data does not include summer admissions.\n",
    "3. The TJ admissions test is changing for the class of 2022, so this classifier will actually be pretty useless for anything other than trying it out for fun.\n",
    "\n",
    "With that out of the way, let's dig into the good stuff!"
   ]
  },
  {
   "cell_type": "code",
   "execution_count": 10,
   "metadata": {
    "collapsed": true
   },
   "outputs": [],
   "source": [
    "# Import all of the things we want\n",
    "\n",
    "import pandas as pd # pandas for reading in data\n",
    "import numpy as np  # numpy because numpy is wonderful\n",
    "import tflearn      # for the neural net™"
   ]
  },
  {
   "cell_type": "code",
   "execution_count": 2,
   "metadata": {
    "collapsed": true
   },
   "outputs": [],
   "source": [
    "data = pd.read_excel('./201718.xlsx') # data at fcag.org/tjstatistics.shtml"
   ]
  },
  {
   "cell_type": "markdown",
   "metadata": {},
   "source": [
    "Ok, let's take a look at this data set!"
   ]
  },
  {
   "cell_type": "code",
   "execution_count": 3,
   "metadata": {},
   "outputs": [
    {
     "data": {
      "text/html": [
       "<div>\n",
       "<table border=\"1\" class=\"dataframe\">\n",
       "  <thead>\n",
       "    <tr style=\"text-align: right;\">\n",
       "      <th></th>\n",
       "      <th>ID</th>\n",
       "      <th>Application Year</th>\n",
       "      <th>FC Resident</th>\n",
       "      <th>AAP</th>\n",
       "      <th>Gender</th>\n",
       "      <th>M/S GPA</th>\n",
       "      <th>GPA</th>\n",
       "      <th>Verbal Score</th>\n",
       "      <th>Math Score</th>\n",
       "      <th>Semifinalist</th>\n",
       "      <th>Final Decision</th>\n",
       "      <th>CombineScore</th>\n",
       "      <th>Math and Verbal</th>\n",
       "    </tr>\n",
       "  </thead>\n",
       "  <tbody>\n",
       "    <tr>\n",
       "      <th>25</th>\n",
       "      <td>26</td>\n",
       "      <td>2012-2013</td>\n",
       "      <td>Yes</td>\n",
       "      <td>Yes</td>\n",
       "      <td>M</td>\n",
       "      <td>NaN</td>\n",
       "      <td>2.9450</td>\n",
       "      <td>39.0</td>\n",
       "      <td>29.0</td>\n",
       "      <td>N</td>\n",
       "      <td>NaN</td>\n",
       "      <td>NaN</td>\n",
       "      <td>68.0</td>\n",
       "    </tr>\n",
       "    <tr>\n",
       "      <th>26</th>\n",
       "      <td>27</td>\n",
       "      <td>2012-2013</td>\n",
       "      <td>Yes</td>\n",
       "      <td>Yes</td>\n",
       "      <td>F</td>\n",
       "      <td>NaN</td>\n",
       "      <td>3.9714</td>\n",
       "      <td>27.0</td>\n",
       "      <td>20.0</td>\n",
       "      <td>N</td>\n",
       "      <td>NaN</td>\n",
       "      <td>NaN</td>\n",
       "      <td>47.0</td>\n",
       "    </tr>\n",
       "    <tr>\n",
       "      <th>27</th>\n",
       "      <td>28</td>\n",
       "      <td>2012-2013</td>\n",
       "      <td>Yes</td>\n",
       "      <td>Yes</td>\n",
       "      <td>F</td>\n",
       "      <td>3.5875</td>\n",
       "      <td>3.7810</td>\n",
       "      <td>40.0</td>\n",
       "      <td>47.0</td>\n",
       "      <td>Y</td>\n",
       "      <td>N</td>\n",
       "      <td>88.0</td>\n",
       "      <td>87.0</td>\n",
       "    </tr>\n",
       "    <tr>\n",
       "      <th>28</th>\n",
       "      <td>29</td>\n",
       "      <td>2012-2013</td>\n",
       "      <td>Yes</td>\n",
       "      <td>NaN</td>\n",
       "      <td>M</td>\n",
       "      <td>NaN</td>\n",
       "      <td>2.8333</td>\n",
       "      <td>NaN</td>\n",
       "      <td>NaN</td>\n",
       "      <td>Withdrawn</td>\n",
       "      <td>NaN</td>\n",
       "      <td>NaN</td>\n",
       "      <td>NaN</td>\n",
       "    </tr>\n",
       "    <tr>\n",
       "      <th>29</th>\n",
       "      <td>30</td>\n",
       "      <td>2012-2013</td>\n",
       "      <td>Yes</td>\n",
       "      <td>Yes</td>\n",
       "      <td>M</td>\n",
       "      <td>NaN</td>\n",
       "      <td>3.8550</td>\n",
       "      <td>25.0</td>\n",
       "      <td>29.0</td>\n",
       "      <td>N</td>\n",
       "      <td>NaN</td>\n",
       "      <td>NaN</td>\n",
       "      <td>54.0</td>\n",
       "    </tr>\n",
       "  </tbody>\n",
       "</table>\n",
       "</div>"
      ],
      "text/plain": [
       "    ID Application Year FC Resident  AAP Gender  M/S GPA     GPA  \\\n",
       "25  26        2012-2013         Yes  Yes      M      NaN  2.9450   \n",
       "26  27        2012-2013         Yes  Yes      F      NaN  3.9714   \n",
       "27  28        2012-2013         Yes  Yes      F   3.5875  3.7810   \n",
       "28  29        2012-2013         Yes  NaN      M      NaN  2.8333   \n",
       "29  30        2012-2013         Yes  Yes      M      NaN  3.8550   \n",
       "\n",
       "    Verbal Score  Math Score Semifinalist Final Decision  CombineScore  \\\n",
       "25          39.0        29.0            N            NaN           NaN   \n",
       "26          27.0        20.0            N            NaN           NaN   \n",
       "27          40.0        47.0            Y              N          88.0   \n",
       "28           NaN         NaN    Withdrawn            NaN           NaN   \n",
       "29          25.0        29.0            N            NaN           NaN   \n",
       "\n",
       "    Math and Verbal  \n",
       "25             68.0  \n",
       "26             47.0  \n",
       "27             87.0  \n",
       "28              NaN  \n",
       "29             54.0  "
      ]
     },
     "execution_count": 3,
     "metadata": {},
     "output_type": "execute_result"
    }
   ],
   "source": [
    "data[25:30]"
   ]
  },
  {
   "cell_type": "markdown",
   "metadata": {},
   "source": [
    "So a couple of things may be confusing here. \n",
    "\n",
    "1. M/S GPA, from what I can tell, means a student's math/science GPA. This is not provided for all students, possibly because their middle school does not provide this information. \n",
    "2. The CombineScore and Math and Verbal scores are different. I think this is because math is weighted more than verbal in the CombineScore column.\n",
    "3. The final decision is not binary; there are 3 options: 'Y' for admitted, 'N' for rejected, or 'W' for waitlisted."
   ]
  },
  {
   "cell_type": "code",
   "execution_count": 4,
   "metadata": {
    "collapsed": true
   },
   "outputs": [],
   "source": [
    "def preprocess(data):\n",
    "    del data['M/S GPA']\n",
    "    del data['Semifinalist']\n",
    "    del data['ID']\n",
    "    del data['Application Year']\n",
    "    del data['CombineScore']\n",
    "    del data['Math and Verbal']\n",
    "\n",
    "    data.AAP = data['AAP'].fillna(value='No')\n",
    "    data['Final Decision'] = data['Final Decision'].fillna(value='N')\n",
    "    \n",
    "    data = data.dropna()\n",
    "    data.reindex()\n",
    "    \n",
    "    np_data = data.as_matrix()\n",
    "    \n",
    "    np_data[np_data == 'Yes'] = 1\n",
    "    np_data[np_data == 'No'] = 0\n",
    "    np_data[np_data == 'F'] = 1\n",
    "    np_data[np_data == 'M'] = 0\n",
    "    np_data[np_data == 'Y'] = 2\n",
    "    np_data[np_data == 'N'] = 0\n",
    "    np_data[np_data == 'W'] = 1\n",
    "    \n",
    "    return np_data"
   ]
  },
  {
   "cell_type": "markdown",
   "metadata": {},
   "source": [
    "We clean up the data a little bit, because there are some things that we want to get rid of.\n",
    "\n",
    "We drop:\n",
    "- 'M/S GPA' because not every student has that.\n",
    "- 'ID' because it's useless\n",
    "- 'Application Year', despite it potentially impacting the outcome, because I primarily want to predict future admissions, in which case historical admission year data wouldn't be as significant a factor. The exception here is if there is a clear trend in admissions across years, but I'm not convinced that that's the case, and I don't have enough data from year to year to determine that conclusively.\n",
    "- 'CombineScore' and 'Math and Verbal', since those can be relatively trivially derived from the individual section scores.\n",
    "\n",
    "We fill in all of the blank AAP rows with 'No', and fill in all of the blank 'Final Decision' rows with a 'N' for rejected, since they are only blank if the student did not make it to the semifinalist round.\n",
    "\n",
    "We then convert all of the categorical data to numerical data."
   ]
  },
  {
   "cell_type": "code",
   "execution_count": 5,
   "metadata": {
    "collapsed": true
   },
   "outputs": [],
   "source": [
    "data = preprocess(data)"
   ]
  },
  {
   "cell_type": "code",
   "execution_count": 6,
   "metadata": {
    "collapsed": true
   },
   "outputs": [],
   "source": [
    "trX = data[...,:6] # input data"
   ]
  },
  {
   "cell_type": "code",
   "execution_count": 7,
   "metadata": {
    "collapsed": true
   },
   "outputs": [],
   "source": [
    "trY = data[..., 6] # labels"
   ]
  },
  {
   "cell_type": "markdown",
   "metadata": {},
   "source": [
    "We create a small neural network. I use Adam because that's default, and relu because it works pretty well. Softmax because we want probabilities out of 1."
   ]
  },
  {
   "cell_type": "code",
   "execution_count": 8,
   "metadata": {
    "collapsed": true
   },
   "outputs": [],
   "source": [
    "optimizer = tflearn.optimizers.Adam(learning_rate=0.01)\n",
    "\n",
    "net = tflearn.input_data(shape=[None, 6])\n",
    "net = tflearn.fully_connected(net, 32, activation='relu')\n",
    "net = tflearn.fully_connected(net, 32, activation='relu')\n",
    "net = tflearn.fully_connected(net, 3, activation='softmax')\n",
    "net = tflearn.regression(net, to_one_hot=True, n_classes=3, optimizer=optimizer, shuffle_batches=True)"
   ]
  },
  {
   "cell_type": "markdown",
   "metadata": {},
   "source": [
    "I ran this for 1000 epochs, but it gets stuck at a min pretty early, so it's not necessarily worth running 1000 epochs. I kept a pretty large batch size because I didn't want batches that had exclusively rejections."
   ]
  },
  {
   "cell_type": "code",
   "execution_count": 9,
   "metadata": {},
   "outputs": [
    {
     "name": "stdout",
     "output_type": "stream",
     "text": [
      "Training Step: 799  | total loss: \u001b[1m\u001b[32m0.31892\u001b[0m\u001b[0m | time: 0.066s\n",
      "| Adam | epoch: 050 | loss: 0.31892 - acc: 0.8658 -- iter: 4500/4736\n",
      "Training Step: 800  | total loss: \u001b[1m\u001b[32m0.31685\u001b[0m\u001b[0m | time: 1.078s\n",
      "| Adam | epoch: 050 | loss: 0.31685 - acc: 0.8687 | val_loss: 0.31303 - val_acc: 0.8598 -- iter: 4736/4736\n",
      "--\n"
     ]
    }
   ],
   "source": [
    "model = tflearn.DNN(net)\n",
    "model.fit(trX, trY, n_epoch=50, batch_size=300, show_metric=True, validation_set=.2)"
   ]
  },
  {
   "cell_type": "markdown",
   "metadata": {},
   "source": [
    "Aight, so the training has finished. We can make a prediction with the model now. Let's try my admissions data."
   ]
  },
  {
   "cell_type": "code",
   "execution_count": 29,
   "metadata": {},
   "outputs": [
    {
     "data": {
      "text/plain": [
       "[[0.2051711529493332, 0.04664463549852371, 0.7481841444969177]]"
      ]
     },
     "execution_count": 29,
     "metadata": {},
     "output_type": "execute_result"
    }
   ],
   "source": [
    "model.predict([[1, 0, 0, 4, 48, 49]])"
   ]
  },
  {
   "cell_type": "markdown",
   "metadata": {},
   "source": [
    "I have an 75% chance of getting into TJ? Sweet."
   ]
  }
 ],
 "metadata": {
  "kernelspec": {
   "display_name": "Python 3",
   "language": "python",
   "name": "python3"
  },
  "language_info": {
   "codemirror_mode": {
    "name": "ipython",
    "version": 3
   },
   "file_extension": ".py",
   "mimetype": "text/x-python",
   "name": "python",
   "nbconvert_exporter": "python",
   "pygments_lexer": "ipython3",
   "version": "3.6.0"
  }
 },
 "nbformat": 4,
 "nbformat_minor": 2
}
